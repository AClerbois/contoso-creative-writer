{
 "cells": [
  {
   "cell_type": "markdown",
   "metadata": {},
   "source": [
    "# Understanding and Building Contoso Creative \n",
    "\n",
    "This Jupyter notebook is an environment that allows you to run Python code in a clear way. \n",
    "To begin, first click the `Select Kernel` button on the top right of the screen this should open a menu above that prompts you to choose a kernel. Select `Python evironments` and then choose `Python 3.11.9`. \n",
    "\n",
    "Once this has been done, go through each section of this notebook and run the cells when instructed to by clicking the `play` button on the left side of the cell with the code. \n",
    "\n",
    "## Learning Outcomes\n",
    "\n",
    "As a reminder we will focus on 4 learning outcomes:\n",
    "\n",
    "1. Understanding agents and prompt engineering with Prompty \n",
    "\n",
    "2. Utilizing Prompty tracing for debugging and observabilty\n",
    "\n",
    "3. Building and running Contoso Creative Writer\n",
    "\n",
    "4. Setting up automated evaluations with Github Actions \n",
    "\n",
    "Let's start with the first one. "
   ]
  },
  {
   "cell_type": "markdown",
   "metadata": {},
   "source": []
  },
  {
   "cell_type": "markdown",
   "metadata": {},
   "source": [
    "## 1. Understanding agents and prompt engineering with Prompty  \n",
    "\n",
    "### What are AI Agents\n",
    "As you should have heard from your instructor Contoso Creative Writer is an Agentic Application. \n",
    "\n",
    "In Artificial Intelligence, an agent is a computer program or system that is designed to:\n",
    "\n",
    " **percieve it's environment, make decisions, and take actions to achieve a specific goal or set of goals**. \n",
    "\n",
    "For Contoso Creative Writer the overall goal is to create an app that will help the marketing team at a fictional company called Contoso Outdooors write well researched, product specific articles. \n",
    "\n",
    "This goal is achieved by 4 different agents that percieve their environments and take actions to complete 4 sub-goals that help achieve the final goal. \n",
    "\n",
    "**Contoso Creative Writer is made up of 4 agents**:\n",
    "\n",
    "<img src=\"agents.png\" alt=\"Agents in contoso creative writer\" width=\"900\" height=\"380\">\n",
    "\n",
    "### Building an Agent with Prompty and Azure OpenAI \n",
    "\n",
    "To understand how an agent is built we will be focusing on the `Researcher Agent`. \n",
    "\n",
    "This agent searches for relevant information online using Bing Search and Azure OpenAI with GPT 3.5 Turbo model. \n",
    "\n",
    "To illustrate what it does click the play button below and change the topic to test it out with a topic of your choice. "
   ]
  },
  {
   "cell_type": "code",
   "execution_count": null,
   "metadata": {
    "vscode": {
     "languageId": "plaintext"
    }
   },
   "outputs": [],
   "source": [
    "import sys\n",
    "import os\n",
    "\n",
    "# Add the path to sys.path\n",
    "sys.path.append(os.path.abspath('../../src/api/agents/researcher'))\n",
    "\n",
    "from researcher import research\n",
    "\n",
    "instructions = \"Can you find the latest camping trends and what folks are doing in the winter?\"\n",
    "\n",
    "research(instructions=instructions)"
   ]
  },
  {
   "cell_type": "markdown",
   "metadata": {},
   "source": [
    "## 2. Utilizing Prompty tracing for debugging and observabilty"
   ]
  },
  {
   "cell_type": "code",
   "execution_count": null,
   "metadata": {
    "vscode": {
     "languageId": "plaintext"
    }
   },
   "outputs": [],
   "source": []
  },
  {
   "cell_type": "markdown",
   "metadata": {},
   "source": [
    "## 3. Building and running Contoso Creative Writer "
   ]
  },
  {
   "cell_type": "code",
   "execution_count": null,
   "metadata": {
    "vscode": {
     "languageId": "plaintext"
    }
   },
   "outputs": [],
   "source": []
  },
  {
   "cell_type": "markdown",
   "metadata": {},
   "source": [
    "## 4. Setting up automated evaluations with Github Actions "
   ]
  },
  {
   "cell_type": "code",
   "execution_count": null,
   "metadata": {
    "vscode": {
     "languageId": "plaintext"
    }
   },
   "outputs": [],
   "source": []
  }
 ],
 "metadata": {
  "language_info": {
   "name": "python"
  }
 },
 "nbformat": 4,
 "nbformat_minor": 2
}
